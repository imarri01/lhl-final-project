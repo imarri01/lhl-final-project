{
 "cells": [
  {
   "cell_type": "code",
   "id": "initial_id",
   "metadata": {
    "collapsed": true,
    "ExecuteTime": {
     "end_time": "2024-08-08T23:26:14.018185Z",
     "start_time": "2024-08-08T23:26:12.910199Z"
    }
   },
   "source": [
    "import pandas as pd\n",
    "from google.cloud import aiplatform\n",
    "import numpy as np\n",
    "import matplotlib.pyplot as plt\n",
    "import seaborn as sns\n",
    "from google.cloud import bigquery"
   ],
   "outputs": [],
   "execution_count": 1
  },
  {
   "metadata": {
    "ExecuteTime": {
     "end_time": "2024-08-08T23:28:13.497925Z",
     "start_time": "2024-08-08T23:28:13.494021Z"
    }
   },
   "cell_type": "code",
   "source": [
    "PROJECT_ID = \"lhl-final-project-431618\"  # @param {type:\"string\"}\n",
    "REGION = \"us-central1\"  # @param {type: \"string\"}"
   ],
   "id": "f9673c9cf314ee5c",
   "outputs": [],
   "execution_count": 5
  },
  {
   "metadata": {
    "ExecuteTime": {
     "end_time": "2024-08-08T23:29:32.469311Z",
     "start_time": "2024-08-08T23:29:27.637309Z"
    }
   },
   "cell_type": "code",
   "source": "! gcloud services enable bigquery.googleapis.com",
   "id": "d055d096ab8fb965",
   "outputs": [
    {
     "name": "stdout",
     "output_type": "stream",
     "text": [
      "Operation \"operations/acat.p2-921277924119-dadc2a14-820a-49ed-9569-011492f55207\" finished successfully.\r\n"
     ]
    }
   ],
   "execution_count": 7
  },
  {
   "metadata": {
    "ExecuteTime": {
     "end_time": "2024-08-08T23:29:35.232189Z",
     "start_time": "2024-08-08T23:29:35.227947Z"
    }
   },
   "cell_type": "code",
   "source": [
    "# Create client in default region\n",
    "bigquery_client = bigquery.Client(\n",
    "    project=PROJECT_ID,\n",
    "    credentials=aiplatform.initializer.global_config.credentials,\n",
    ")"
   ],
   "id": "7cdc5c8c29c9a5d7",
   "outputs": [],
   "execution_count": 8
  },
  {
   "metadata": {
    "ExecuteTime": {
     "end_time": "2024-08-08T23:29:41.556268Z",
     "start_time": "2024-08-08T23:29:41.551010Z"
    }
   },
   "cell_type": "code",
   "source": [
    "def create_bigquery_dataset(name: str, region: str):\n",
    "    batch_predict_bq_output_uri_prefix = \"bq://{}.{}\".format(PROJECT_ID, name)\n",
    "\n",
    "    bq_dataset = bigquery.Dataset(\"{}.{}\".format(PROJECT_ID, name))\n",
    "\n",
    "    dataset_region = region\n",
    "    bq_dataset.location = dataset_region\n",
    "    bq_dataset = bigquery_client.create_dataset(bq_dataset)\n",
    "    print(\n",
    "        \"Created bigquery dataset {} in {}\".format(\n",
    "            batch_predict_bq_output_uri_prefix, dataset_region\n",
    "        )\n",
    "    )\n",
    "\n",
    "    return batch_predict_bq_output_uri_prefix"
   ],
   "id": "be46179027addcbb",
   "outputs": [],
   "execution_count": 9
  },
  {
   "metadata": {
    "ExecuteTime": {
     "end_time": "2024-08-08T23:29:44.017714Z",
     "start_time": "2024-08-08T23:29:43.467723Z"
    }
   },
   "cell_type": "code",
   "source": [
    "batch_predict_bq_output_uri_prefix = create_bigquery_dataset(\n",
    "    name=\"hierarchical_forecasting_unique\", region=REGION\n",
    ")"
   ],
   "id": "d92f61113eee43a6",
   "outputs": [
    {
     "name": "stdout",
     "output_type": "stream",
     "text": [
      "Created bigquery dataset bq://lhl-final-project-431618.hierarchical_forecasting_unique in us-central1\n"
     ]
    }
   ],
   "execution_count": 10
  },
  {
   "metadata": {
    "ExecuteTime": {
     "end_time": "2024-08-08T23:32:14.873200Z",
     "start_time": "2024-08-08T23:32:14.869225Z"
    }
   },
   "cell_type": "code",
   "source": "DATASET_TEST_URI= \"gs://lhl-final-project-assets-0013/sales_forecasting_test.csv\"",
   "id": "aa7750817891bd6c",
   "outputs": [],
   "execution_count": 12
  },
  {
   "metadata": {
    "ExecuteTime": {
     "end_time": "2024-08-08T23:32:31.955868Z",
     "start_time": "2024-08-08T23:32:31.925381Z"
    }
   },
   "cell_type": "code",
   "source": [
    "batch_prediction_job = model.batch_predict(\n",
    "    job_display_name=\"hierarchical_forecasting_unique\",\n",
    "    gcs_source=DATASET_TEST_URI,\n",
    "    instances_format=\"csv\",\n",
    "    bigquery_destination_prefix=batch_predict_bq_output_uri_prefix,\n",
    "    predictions_format=\"bigquery\",\n",
    "    generate_explanation=True,\n",
    "    sync=True,\n",
    ")"
   ],
   "id": "1d3703758b488413",
   "outputs": [
    {
     "ename": "NameError",
     "evalue": "name 'model' is not defined",
     "output_type": "error",
     "traceback": [
      "\u001B[0;31m---------------------------------------------------------------------------\u001B[0m",
      "\u001B[0;31mNameError\u001B[0m                                 Traceback (most recent call last)",
      "Cell \u001B[0;32mIn[13], line 1\u001B[0m\n\u001B[0;32m----> 1\u001B[0m batch_prediction_job \u001B[38;5;241m=\u001B[39m model\u001B[38;5;241m.\u001B[39mbatch_predict(\n\u001B[1;32m      2\u001B[0m     job_display_name\u001B[38;5;241m=\u001B[39m\u001B[38;5;124m\"\u001B[39m\u001B[38;5;124mhierarchical_forecasting_unique\u001B[39m\u001B[38;5;124m\"\u001B[39m,\n\u001B[1;32m      3\u001B[0m     gcs_source\u001B[38;5;241m=\u001B[39mDATASET_TEST_URI,\n\u001B[1;32m      4\u001B[0m     instances_format\u001B[38;5;241m=\u001B[39m\u001B[38;5;124m\"\u001B[39m\u001B[38;5;124mcsv\u001B[39m\u001B[38;5;124m\"\u001B[39m,\n\u001B[1;32m      5\u001B[0m     bigquery_destination_prefix\u001B[38;5;241m=\u001B[39mbatch_predict_bq_output_uri_prefix,\n\u001B[1;32m      6\u001B[0m     predictions_format\u001B[38;5;241m=\u001B[39m\u001B[38;5;124m\"\u001B[39m\u001B[38;5;124mbigquery\u001B[39m\u001B[38;5;124m\"\u001B[39m,\n\u001B[1;32m      7\u001B[0m     generate_explanation\u001B[38;5;241m=\u001B[39m\u001B[38;5;28;01mTrue\u001B[39;00m,\n\u001B[1;32m      8\u001B[0m     sync\u001B[38;5;241m=\u001B[39m\u001B[38;5;28;01mTrue\u001B[39;00m,\n\u001B[1;32m      9\u001B[0m )\n",
      "\u001B[0;31mNameError\u001B[0m: name 'model' is not defined"
     ]
    }
   ],
   "execution_count": 13
  },
  {
   "metadata": {},
   "cell_type": "code",
   "outputs": [],
   "execution_count": null,
   "source": "",
   "id": "1fb652fe08f93ded"
  }
 ],
 "metadata": {
  "kernelspec": {
   "display_name": "Python 3",
   "language": "python",
   "name": "python3"
  },
  "language_info": {
   "codemirror_mode": {
    "name": "ipython",
    "version": 2
   },
   "file_extension": ".py",
   "mimetype": "text/x-python",
   "name": "python",
   "nbconvert_exporter": "python",
   "pygments_lexer": "ipython2",
   "version": "2.7.6"
  }
 },
 "nbformat": 4,
 "nbformat_minor": 5
}
