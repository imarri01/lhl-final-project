{
 "cells": [
  {
   "metadata": {},
   "cell_type": "markdown",
   "source": "#### Install packages",
   "id": "b14bcb7e950c1bb3"
  },
  {
   "cell_type": "code",
   "id": "initial_id",
   "metadata": {
    "collapsed": true,
    "ExecuteTime": {
     "end_time": "2024-08-08T20:23:27.122251Z",
     "start_time": "2024-08-08T20:23:14.387275Z"
    }
   },
   "source": [
    "# Install the packages\n",
    "! pip3 install --upgrade google-cloud-aiplatform \\\n",
    "                        google-cloud-storage \\\n",
    "                        google-cloud-bigquery \\\n",
    "                        seaborn \\\n",
    "                        scikit-learn"
   ],
   "outputs": [
    {
     "name": "stdout",
     "output_type": "stream",
     "text": [
      "Collecting google-cloud-aiplatform\r\n",
      "  Downloading google_cloud_aiplatform-1.61.0-py2.py3-none-any.whl.metadata (31 kB)\r\n",
      "Requirement already satisfied: google-cloud-storage in /Users/kiddstudio/anaconda3/lib/python3.11/site-packages (2.17.0)\r\n",
      "Collecting google-cloud-storage\r\n",
      "  Downloading google_cloud_storage-2.18.1-py2.py3-none-any.whl.metadata (9.1 kB)\r\n",
      "Collecting google-cloud-bigquery\r\n",
      "  Downloading google_cloud_bigquery-3.25.0-py2.py3-none-any.whl.metadata (8.9 kB)\r\n",
      "Requirement already satisfied: seaborn in /Users/kiddstudio/anaconda3/lib/python3.11/site-packages (0.12.2)\r\n",
      "Collecting seaborn\r\n",
      "  Using cached seaborn-0.13.2-py3-none-any.whl.metadata (5.4 kB)\r\n",
      "Requirement already satisfied: scikit-learn in /Users/kiddstudio/anaconda3/lib/python3.11/site-packages (1.4.2)\r\n",
      "Collecting scikit-learn\r\n",
      "  Downloading scikit_learn-1.5.1-cp311-cp311-macosx_10_9_x86_64.whl.metadata (12 kB)\r\n",
      "Requirement already satisfied: google-api-core!=2.0.*,!=2.1.*,!=2.2.*,!=2.3.*,!=2.4.*,!=2.5.*,!=2.6.*,!=2.7.*,<3.0.0dev,>=1.34.1 in /Users/kiddstudio/anaconda3/lib/python3.11/site-packages (from google-api-core[grpc]!=2.0.*,!=2.1.*,!=2.2.*,!=2.3.*,!=2.4.*,!=2.5.*,!=2.6.*,!=2.7.*,<3.0.0dev,>=1.34.1->google-cloud-aiplatform) (2.19.0)\r\n",
      "Requirement already satisfied: google-auth<3.0.0dev,>=2.14.1 in /Users/kiddstudio/anaconda3/lib/python3.11/site-packages (from google-cloud-aiplatform) (2.30.0)\r\n",
      "Requirement already satisfied: proto-plus<2.0.0dev,>=1.22.3 in /Users/kiddstudio/anaconda3/lib/python3.11/site-packages (from google-cloud-aiplatform) (1.23.0)\r\n",
      "Requirement already satisfied: protobuf!=4.21.0,!=4.21.1,!=4.21.2,!=4.21.3,!=4.21.4,!=4.21.5,<6.0.0dev,>=3.20.2 in /Users/kiddstudio/anaconda3/lib/python3.11/site-packages (from google-cloud-aiplatform) (4.25.3)\r\n",
      "Requirement already satisfied: packaging>=14.3 in /Users/kiddstudio/anaconda3/lib/python3.11/site-packages (from google-cloud-aiplatform) (23.2)\r\n",
      "Collecting google-cloud-resource-manager<3.0.0dev,>=1.3.3 (from google-cloud-aiplatform)\r\n",
      "  Downloading google_cloud_resource_manager-1.12.5-py2.py3-none-any.whl.metadata (5.3 kB)\r\n",
      "Collecting shapely<3.0.0dev (from google-cloud-aiplatform)\r\n",
      "  Downloading shapely-2.0.5-cp311-cp311-macosx_10_9_x86_64.whl.metadata (7.0 kB)\r\n",
      "Requirement already satisfied: pydantic<3 in /Users/kiddstudio/anaconda3/lib/python3.11/site-packages (from google-cloud-aiplatform) (2.5.3)\r\n",
      "Collecting docstring-parser<1 (from google-cloud-aiplatform)\r\n",
      "  Downloading docstring_parser-0.16-py3-none-any.whl.metadata (3.0 kB)\r\n",
      "Requirement already satisfied: google-cloud-core<3.0dev,>=2.3.0 in /Users/kiddstudio/anaconda3/lib/python3.11/site-packages (from google-cloud-storage) (2.4.1)\r\n",
      "Requirement already satisfied: google-resumable-media>=2.6.0 in /Users/kiddstudio/anaconda3/lib/python3.11/site-packages (from google-cloud-storage) (2.7.1)\r\n",
      "Requirement already satisfied: requests<3.0.0dev,>=2.18.0 in /Users/kiddstudio/anaconda3/lib/python3.11/site-packages (from google-cloud-storage) (2.32.2)\r\n",
      "Requirement already satisfied: google-crc32c<2.0dev,>=1.0 in /Users/kiddstudio/anaconda3/lib/python3.11/site-packages (from google-cloud-storage) (1.5.0)\r\n",
      "Requirement already satisfied: python-dateutil<3.0dev,>=2.7.2 in /Users/kiddstudio/anaconda3/lib/python3.11/site-packages (from google-cloud-bigquery) (2.8.2)\r\n",
      "Requirement already satisfied: numpy!=1.24.0,>=1.20 in /Users/kiddstudio/anaconda3/lib/python3.11/site-packages (from seaborn) (1.26.4)\r\n",
      "Requirement already satisfied: pandas>=1.2 in /Users/kiddstudio/anaconda3/lib/python3.11/site-packages (from seaborn) (2.2.1)\r\n",
      "Requirement already satisfied: matplotlib!=3.6.1,>=3.4 in /Users/kiddstudio/anaconda3/lib/python3.11/site-packages (from seaborn) (3.8.4)\r\n",
      "Requirement already satisfied: scipy>=1.6.0 in /Users/kiddstudio/anaconda3/lib/python3.11/site-packages (from scikit-learn) (1.13.1)\r\n",
      "Requirement already satisfied: joblib>=1.2.0 in /Users/kiddstudio/anaconda3/lib/python3.11/site-packages (from scikit-learn) (1.4.0)\r\n",
      "Collecting threadpoolctl>=3.1.0 (from scikit-learn)\r\n",
      "  Using cached threadpoolctl-3.5.0-py3-none-any.whl.metadata (13 kB)\r\n",
      "Requirement already satisfied: googleapis-common-protos<2.0.dev0,>=1.56.2 in /Users/kiddstudio/anaconda3/lib/python3.11/site-packages (from google-api-core!=2.0.*,!=2.1.*,!=2.2.*,!=2.3.*,!=2.4.*,!=2.5.*,!=2.6.*,!=2.7.*,<3.0.0dev,>=1.34.1->google-api-core[grpc]!=2.0.*,!=2.1.*,!=2.2.*,!=2.3.*,!=2.4.*,!=2.5.*,!=2.6.*,!=2.7.*,<3.0.0dev,>=1.34.1->google-cloud-aiplatform) (1.63.1)\r\n",
      "Requirement already satisfied: grpcio<2.0dev,>=1.33.2 in /Users/kiddstudio/anaconda3/lib/python3.11/site-packages (from google-api-core[grpc]!=2.0.*,!=2.1.*,!=2.2.*,!=2.3.*,!=2.4.*,!=2.5.*,!=2.6.*,!=2.7.*,<3.0.0dev,>=1.34.1->google-cloud-aiplatform) (1.64.1)\r\n",
      "Requirement already satisfied: grpcio-status<2.0.dev0,>=1.33.2 in /Users/kiddstudio/anaconda3/lib/python3.11/site-packages (from google-api-core[grpc]!=2.0.*,!=2.1.*,!=2.2.*,!=2.3.*,!=2.4.*,!=2.5.*,!=2.6.*,!=2.7.*,<3.0.0dev,>=1.34.1->google-cloud-aiplatform) (1.62.2)\r\n",
      "Requirement already satisfied: cachetools<6.0,>=2.0.0 in /Users/kiddstudio/anaconda3/lib/python3.11/site-packages (from google-auth<3.0.0dev,>=2.14.1->google-cloud-aiplatform) (5.3.3)\r\n",
      "Requirement already satisfied: pyasn1-modules>=0.2.1 in /Users/kiddstudio/anaconda3/lib/python3.11/site-packages (from google-auth<3.0.0dev,>=2.14.1->google-cloud-aiplatform) (0.2.8)\r\n",
      "Requirement already satisfied: rsa<5,>=3.1.4 in /Users/kiddstudio/anaconda3/lib/python3.11/site-packages (from google-auth<3.0.0dev,>=2.14.1->google-cloud-aiplatform) (4.9)\r\n",
      "Collecting grpc-google-iam-v1<1.0.0dev,>=0.12.4 (from google-cloud-resource-manager<3.0.0dev,>=1.3.3->google-cloud-aiplatform)\r\n",
      "  Downloading grpc_google_iam_v1-0.13.1-py2.py3-none-any.whl.metadata (3.3 kB)\r\n",
      "Requirement already satisfied: contourpy>=1.0.1 in /Users/kiddstudio/anaconda3/lib/python3.11/site-packages (from matplotlib!=3.6.1,>=3.4->seaborn) (1.2.0)\r\n",
      "Requirement already satisfied: cycler>=0.10 in /Users/kiddstudio/anaconda3/lib/python3.11/site-packages (from matplotlib!=3.6.1,>=3.4->seaborn) (0.11.0)\r\n",
      "Requirement already satisfied: fonttools>=4.22.0 in /Users/kiddstudio/anaconda3/lib/python3.11/site-packages (from matplotlib!=3.6.1,>=3.4->seaborn) (4.25.0)\r\n",
      "Requirement already satisfied: kiwisolver>=1.3.1 in /Users/kiddstudio/anaconda3/lib/python3.11/site-packages (from matplotlib!=3.6.1,>=3.4->seaborn) (1.4.4)\r\n",
      "Requirement already satisfied: pillow>=8 in /Users/kiddstudio/anaconda3/lib/python3.11/site-packages (from matplotlib!=3.6.1,>=3.4->seaborn) (10.3.0)\r\n",
      "Requirement already satisfied: pyparsing>=2.3.1 in /Users/kiddstudio/anaconda3/lib/python3.11/site-packages (from matplotlib!=3.6.1,>=3.4->seaborn) (3.0.9)\r\n",
      "Requirement already satisfied: pytz>=2020.1 in /Users/kiddstudio/anaconda3/lib/python3.11/site-packages (from pandas>=1.2->seaborn) (2024.1)\r\n",
      "Requirement already satisfied: tzdata>=2022.7 in /Users/kiddstudio/anaconda3/lib/python3.11/site-packages (from pandas>=1.2->seaborn) (2023.3)\r\n",
      "Requirement already satisfied: annotated-types>=0.4.0 in /Users/kiddstudio/anaconda3/lib/python3.11/site-packages (from pydantic<3->google-cloud-aiplatform) (0.6.0)\r\n",
      "Requirement already satisfied: pydantic-core==2.14.6 in /Users/kiddstudio/anaconda3/lib/python3.11/site-packages (from pydantic<3->google-cloud-aiplatform) (2.14.6)\r\n",
      "Requirement already satisfied: typing-extensions>=4.6.1 in /Users/kiddstudio/anaconda3/lib/python3.11/site-packages (from pydantic<3->google-cloud-aiplatform) (4.11.0)\r\n",
      "Requirement already satisfied: six>=1.5 in /Users/kiddstudio/anaconda3/lib/python3.11/site-packages (from python-dateutil<3.0dev,>=2.7.2->google-cloud-bigquery) (1.16.0)\r\n",
      "Requirement already satisfied: charset-normalizer<4,>=2 in /Users/kiddstudio/anaconda3/lib/python3.11/site-packages (from requests<3.0.0dev,>=2.18.0->google-cloud-storage) (2.0.4)\r\n",
      "Requirement already satisfied: idna<4,>=2.5 in /Users/kiddstudio/anaconda3/lib/python3.11/site-packages (from requests<3.0.0dev,>=2.18.0->google-cloud-storage) (3.7)\r\n",
      "Requirement already satisfied: urllib3<3,>=1.21.1 in /Users/kiddstudio/anaconda3/lib/python3.11/site-packages (from requests<3.0.0dev,>=2.18.0->google-cloud-storage) (2.2.1)\r\n",
      "Requirement already satisfied: certifi>=2017.4.17 in /Users/kiddstudio/anaconda3/lib/python3.11/site-packages (from requests<3.0.0dev,>=2.18.0->google-cloud-storage) (2024.6.2)\r\n",
      "Requirement already satisfied: pyasn1<0.5.0,>=0.4.6 in /Users/kiddstudio/anaconda3/lib/python3.11/site-packages (from pyasn1-modules>=0.2.1->google-auth<3.0.0dev,>=2.14.1->google-cloud-aiplatform) (0.4.8)\r\n",
      "Downloading google_cloud_aiplatform-1.61.0-py2.py3-none-any.whl (5.1 MB)\r\n",
      "\u001B[2K   \u001B[90m━━━━━━━━━━━━━━━━━━━━━━━━━━━━━━━━━━━━━━━━\u001B[0m \u001B[32m5.1/5.1 MB\u001B[0m \u001B[31m54.1 MB/s\u001B[0m eta \u001B[36m0:00:00\u001B[0ma \u001B[36m0:00:01\u001B[0m\r\n",
      "\u001B[?25hDownloading google_cloud_storage-2.18.1-py2.py3-none-any.whl (130 kB)\r\n",
      "\u001B[2K   \u001B[90m━━━━━━━━━━━━━━━━━━━━━━━━━━━━━━━━━━━━━━━━\u001B[0m \u001B[32m130.5/130.5 kB\u001B[0m \u001B[31m15.9 MB/s\u001B[0m eta \u001B[36m0:00:00\u001B[0m\r\n",
      "\u001B[?25hDownloading google_cloud_bigquery-3.25.0-py2.py3-none-any.whl (239 kB)\r\n",
      "\u001B[2K   \u001B[90m━━━━━━━━━━━━━━━━━━━━━━━━━━━━━━━━━━━━━━━━\u001B[0m \u001B[32m239.0/239.0 kB\u001B[0m \u001B[31m18.9 MB/s\u001B[0m eta \u001B[36m0:00:00\u001B[0m\r\n",
      "\u001B[?25hUsing cached seaborn-0.13.2-py3-none-any.whl (294 kB)\r\n",
      "Downloading scikit_learn-1.5.1-cp311-cp311-macosx_10_9_x86_64.whl (12.1 MB)\r\n",
      "\u001B[2K   \u001B[90m━━━━━━━━━━━━━━━━━━━━━━━━━━━━━━━━━━━━━━━━\u001B[0m \u001B[32m12.1/12.1 MB\u001B[0m \u001B[31m71.5 MB/s\u001B[0m eta \u001B[36m0:00:00\u001B[0m00:01\u001B[0m0:01\u001B[0m\r\n",
      "\u001B[?25hDownloading docstring_parser-0.16-py3-none-any.whl (36 kB)\r\n",
      "Downloading google_cloud_resource_manager-1.12.5-py2.py3-none-any.whl (341 kB)\r\n",
      "\u001B[2K   \u001B[90m━━━━━━━━━━━━━━━━━━━━━━━━━━━━━━━━━━━━━━━━\u001B[0m \u001B[32m341.9/341.9 kB\u001B[0m \u001B[31m23.5 MB/s\u001B[0m eta \u001B[36m0:00:00\u001B[0m\r\n",
      "\u001B[?25hDownloading shapely-2.0.5-cp311-cp311-macosx_10_9_x86_64.whl (1.4 MB)\r\n",
      "\u001B[2K   \u001B[90m━━━━━━━━━━━━━━━━━━━━━━━━━━━━━━━━━━━━━━━━\u001B[0m \u001B[32m1.4/1.4 MB\u001B[0m \u001B[31m39.8 MB/s\u001B[0m eta \u001B[36m0:00:00\u001B[0m\r\n",
      "\u001B[?25hUsing cached threadpoolctl-3.5.0-py3-none-any.whl (18 kB)\r\n",
      "Downloading grpc_google_iam_v1-0.13.1-py2.py3-none-any.whl (24 kB)\r\n",
      "Installing collected packages: threadpoolctl, shapely, docstring-parser, scikit-learn, seaborn, grpc-google-iam-v1, google-cloud-storage, google-cloud-resource-manager, google-cloud-bigquery, google-cloud-aiplatform\r\n",
      "  Attempting uninstall: threadpoolctl\r\n",
      "    Found existing installation: threadpoolctl 2.2.0\r\n",
      "    Uninstalling threadpoolctl-2.2.0:\r\n",
      "      Successfully uninstalled threadpoolctl-2.2.0\r\n",
      "  Attempting uninstall: scikit-learn\r\n",
      "    Found existing installation: scikit-learn 1.4.2\r\n",
      "    Uninstalling scikit-learn-1.4.2:\r\n",
      "      Successfully uninstalled scikit-learn-1.4.2\r\n",
      "  Attempting uninstall: seaborn\r\n",
      "    Found existing installation: seaborn 0.12.2\r\n",
      "    Uninstalling seaborn-0.12.2:\r\n",
      "      Successfully uninstalled seaborn-0.12.2\r\n",
      "  Attempting uninstall: google-cloud-storage\r\n",
      "    Found existing installation: google-cloud-storage 2.17.0\r\n",
      "    Uninstalling google-cloud-storage-2.17.0:\r\n",
      "      Successfully uninstalled google-cloud-storage-2.17.0\r\n",
      "Successfully installed docstring-parser-0.16 google-cloud-aiplatform-1.61.0 google-cloud-bigquery-3.25.0 google-cloud-resource-manager-1.12.5 google-cloud-storage-2.18.1 grpc-google-iam-v1-0.13.1 scikit-learn-1.5.1 seaborn-0.13.2 shapely-2.0.5 threadpoolctl-3.5.0\r\n"
     ]
    }
   ],
   "execution_count": 1
  },
  {
   "metadata": {
    "ExecuteTime": {
     "end_time": "2024-08-08T20:23:36.670068Z",
     "start_time": "2024-08-08T20:23:33.746439Z"
    }
   },
   "cell_type": "code",
   "source": "! pip3 install --upgrade google-cloud",
   "id": "4db8899c65e95f43",
   "outputs": [
    {
     "name": "stdout",
     "output_type": "stream",
     "text": [
      "Requirement already satisfied: google-cloud in /Users/kiddstudio/anaconda3/lib/python3.11/site-packages (0.34.0)\r\n"
     ]
    }
   ],
   "execution_count": 2
  },
  {
   "metadata": {},
   "cell_type": "markdown",
   "source": "#### Authenticate your Google Cloud Account",
   "id": "abf1f91211225aae"
  },
  {
   "metadata": {
    "ExecuteTime": {
     "end_time": "2024-08-08T20:24:05.431513Z",
     "start_time": "2024-08-08T20:23:56.456301Z"
    }
   },
   "cell_type": "code",
   "source": "! gcloud auth login\n",
   "id": "2a84f3551c03c44d",
   "outputs": [
    {
     "name": "stdout",
     "output_type": "stream",
     "text": [
      "Your browser has been opened to visit:\r\n",
      "\r\n",
      "    https://accounts.google.com/o/oauth2/auth?response_type=code&client_id=32555940559.apps.googleusercontent.com&redirect_uri=http%3A%2F%2Flocalhost%3A8085%2F&scope=openid+https%3A%2F%2Fwww.googleapis.com%2Fauth%2Fuserinfo.email+https%3A%2F%2Fwww.googleapis.com%2Fauth%2Fcloud-platform+https%3A%2F%2Fwww.googleapis.com%2Fauth%2Fappengine.admin+https%3A%2F%2Fwww.googleapis.com%2Fauth%2Fsqlservice.login+https%3A%2F%2Fwww.googleapis.com%2Fauth%2Fcompute+https%3A%2F%2Fwww.googleapis.com%2Fauth%2Faccounts.reauth&state=xXasOmofU4WSVqYqdsL3yQ1ePqVbQ3&access_type=offline&code_challenge=Mzb8YY7-nLtoq1khuXz8r7PkGyTqKU4YaAAjBenjvnE&code_challenge_method=S256\r\n",
      "\r\n",
      "\r\n",
      "You are now logged in as [kidd.ramon@gmail.com].\r\n",
      "Your current project is [lhl-final-project-431618].  You can change this setting by running:\r\n",
      "  $ gcloud config set project PROJECT_ID\r\n"
     ]
    }
   ],
   "execution_count": 3
  },
  {
   "metadata": {
    "ExecuteTime": {
     "end_time": "2024-08-08T20:28:00.119188Z",
     "start_time": "2024-08-08T20:27:59.379088Z"
    }
   },
   "cell_type": "code",
   "source": "! gcloud auth list",
   "id": "e81f56051eb11b52",
   "outputs": [
    {
     "name": "stdout",
     "output_type": "stream",
     "text": [
      "    Credentialed Accounts\r\n",
      "ACTIVE  ACCOUNT\r\n",
      "*       kidd.ramon@gmail.com\r\n",
      "        ramon.kidd@sada.com\r\n",
      "        ramon@imarrifrank.com\r\n",
      "\r\n",
      "To set the active account, run:\r\n",
      "    $ gcloud config set account `ACCOUNT`\r\n",
      "\r\n"
     ]
    }
   ],
   "execution_count": 7
  },
  {
   "metadata": {
    "ExecuteTime": {
     "end_time": "2024-08-08T16:08:05.889079Z",
     "start_time": "2024-08-08T16:08:04.931848Z"
    }
   },
   "cell_type": "code",
   "source": "! gcloud config set account kidd.ramon@gmail.com",
   "id": "d9e41ab8d60c3ed4",
   "outputs": [
    {
     "name": "stdout",
     "output_type": "stream",
     "text": [
      "Updated property [core/account].\r\n"
     ]
    }
   ],
   "execution_count": 5
  },
  {
   "metadata": {
    "ExecuteTime": {
     "end_time": "2024-08-08T20:27:55.698413Z",
     "start_time": "2024-08-08T20:27:54.392272Z"
    }
   },
   "cell_type": "code",
   "source": [
    "PROJECT_ID = \"lhl-final-project-431618\"  # @param {type:\"string\"}\n",
    "\n",
    "# Set the project id\n",
    "! gcloud config set project {PROJECT_ID}"
   ],
   "id": "9c6f390cc3bd19a8",
   "outputs": [
    {
     "name": "stdout",
     "output_type": "stream",
     "text": [
      "Updated property [core/project].\r\n"
     ]
    }
   ],
   "execution_count": 6
  },
  {
   "metadata": {
    "ExecuteTime": {
     "end_time": "2024-08-08T16:09:56.455107Z",
     "start_time": "2024-08-08T16:09:36.239541Z"
    }
   },
   "cell_type": "code",
   "source": "! gcloud auth application-default set-quota-project lhl-final-project-431618",
   "id": "dfdcaab032f0aa43",
   "outputs": [
    {
     "name": "stdout",
     "output_type": "stream",
     "text": [
      "API [cloudresourcemanager.googleapis.com] not enabled on project \r\n",
      "[lhl-final-project-431618]. Would you like to enable and retry (this will take a\r\n",
      " few minutes)? (y/N)?  ^C\r\n",
      "\r\n",
      "\r\n",
      "Command killed by keyboard interrupt\r\n",
      "\r\n"
     ]
    }
   ],
   "execution_count": 9
  },
  {
   "metadata": {
    "ExecuteTime": {
     "end_time": "2024-08-08T20:28:08.730164Z",
     "start_time": "2024-08-08T20:28:08.726797Z"
    }
   },
   "cell_type": "code",
   "source": "REGION = \"us-central1\"  # @param {type: \"string\"}",
   "id": "471168957ff90521",
   "outputs": [],
   "execution_count": 8
  },
  {
   "metadata": {},
   "cell_type": "code",
   "outputs": [],
   "execution_count": null,
   "source": "",
   "id": "1542fe7b158044cf"
  },
  {
   "metadata": {},
   "cell_type": "markdown",
   "source": "#### Create a cloud storage Bucket",
   "id": "95daf0bf42ccb3ea"
  },
  {
   "metadata": {
    "ExecuteTime": {
     "end_time": "2024-08-08T20:28:13.998206Z",
     "start_time": "2024-08-08T20:28:13.994803Z"
    }
   },
   "cell_type": "code",
   "source": "BUCKET_URI = \"gs://lhl-final-project-assets-0013\"  # @param {type:\"string\"}",
   "id": "8e7d1f56a739346",
   "outputs": [],
   "execution_count": 9
  },
  {
   "metadata": {
    "ExecuteTime": {
     "end_time": "2024-08-08T20:28:35.734157Z",
     "start_time": "2024-08-08T20:28:33.147871Z"
    }
   },
   "cell_type": "code",
   "source": "! gsutil mb -l $REGION -p $PROJECT_ID $BUCKET_URI",
   "id": "c6b80c16919f98e7",
   "outputs": [
    {
     "name": "stdout",
     "output_type": "stream",
     "text": [
      "Creating gs://lhl-final-project-assets-0013/...\r\n"
     ]
    }
   ],
   "execution_count": 10
  },
  {
   "metadata": {
    "ExecuteTime": {
     "end_time": "2024-08-08T20:22:16.962881Z",
     "start_time": "2024-08-08T20:22:16.960001Z"
    }
   },
   "cell_type": "code",
   "source": "import google.cloud",
   "id": "699cbcd5f1ca8684",
   "outputs": [],
   "execution_count": 17
  },
  {
   "metadata": {
    "ExecuteTime": {
     "end_time": "2024-08-08T20:29:04.250832Z",
     "start_time": "2024-08-08T20:28:45.626800Z"
    }
   },
   "cell_type": "code",
   "source": [
    "from google.cloud import aiplatform\n",
    "\n",
    "# Initialize the Vertex AI SDK\n",
    "aiplatform.init(project=PROJECT_ID, location=REGION, staging_bucket=BUCKET_URI)"
   ],
   "id": "4e92233588428b91",
   "outputs": [],
   "execution_count": 11
  },
  {
   "metadata": {
    "ExecuteTime": {
     "end_time": "2024-08-08T20:29:19.075015Z",
     "start_time": "2024-08-08T20:29:19.072211Z"
    }
   },
   "cell_type": "code",
   "source": "import google.cloud.aiplatform as aiplatform",
   "id": "b3b56c77136c7359",
   "outputs": [],
   "execution_count": 12
  },
  {
   "metadata": {
    "ExecuteTime": {
     "end_time": "2024-08-08T20:29:32.091833Z",
     "start_time": "2024-08-08T20:29:32.088983Z"
    }
   },
   "cell_type": "code",
   "source": "aiplatform.init(project=PROJECT_ID, location=REGION)",
   "id": "e5927b1daec024b8",
   "outputs": [],
   "execution_count": 13
  },
  {
   "metadata": {},
   "cell_type": "code",
   "outputs": [],
   "execution_count": null,
   "source": "",
   "id": "8b3f5f4e378c9b43"
  }
 ],
 "metadata": {
  "kernelspec": {
   "display_name": "Python 3",
   "language": "python",
   "name": "python3"
  },
  "language_info": {
   "codemirror_mode": {
    "name": "ipython",
    "version": 2
   },
   "file_extension": ".py",
   "mimetype": "text/x-python",
   "name": "python",
   "nbconvert_exporter": "python",
   "pygments_lexer": "ipython2",
   "version": "2.7.6"
  }
 },
 "nbformat": 4,
 "nbformat_minor": 5
}
